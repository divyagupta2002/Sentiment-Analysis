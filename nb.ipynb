{
 "cells": [
  {
   "cell_type": "code",
   "execution_count": 1,
   "metadata": {},
   "outputs": [
    {
     "data": {
      "text/html": [
       "<div>\n",
       "<style scoped>\n",
       "    .dataframe tbody tr th:only-of-type {\n",
       "        vertical-align: middle;\n",
       "    }\n",
       "\n",
       "    .dataframe tbody tr th {\n",
       "        vertical-align: top;\n",
       "    }\n",
       "\n",
       "    .dataframe thead th {\n",
       "        text-align: right;\n",
       "    }\n",
       "</style>\n",
       "<table border=\"1\" class=\"dataframe\">\n",
       "  <thead>\n",
       "    <tr style=\"text-align: right;\">\n",
       "      <th></th>\n",
       "      <th>text</th>\n",
       "      <th>label</th>\n",
       "    </tr>\n",
       "  </thead>\n",
       "  <tbody>\n",
       "    <tr>\n",
       "      <th>0</th>\n",
       "      <td>i didnt feel humiliated</td>\n",
       "      <td>sadness</td>\n",
       "    </tr>\n",
       "    <tr>\n",
       "      <th>1</th>\n",
       "      <td>i can go from feeling so hopeless to so damned...</td>\n",
       "      <td>sadness</td>\n",
       "    </tr>\n",
       "    <tr>\n",
       "      <th>2</th>\n",
       "      <td>im grabbing a minute to post i feel greedy wrong</td>\n",
       "      <td>anger</td>\n",
       "    </tr>\n",
       "    <tr>\n",
       "      <th>3</th>\n",
       "      <td>i am ever feeling nostalgic about the fireplac...</td>\n",
       "      <td>love</td>\n",
       "    </tr>\n",
       "    <tr>\n",
       "      <th>4</th>\n",
       "      <td>i am feeling grouchy</td>\n",
       "      <td>anger</td>\n",
       "    </tr>\n",
       "  </tbody>\n",
       "</table>\n",
       "</div>"
      ],
      "text/plain": [
       "                                                text    label\n",
       "0                            i didnt feel humiliated  sadness\n",
       "1  i can go from feeling so hopeless to so damned...  sadness\n",
       "2   im grabbing a minute to post i feel greedy wrong    anger\n",
       "3  i am ever feeling nostalgic about the fireplac...     love\n",
       "4                               i am feeling grouchy    anger"
      ]
     },
     "execution_count": 1,
     "metadata": {},
     "output_type": "execute_result"
    }
   ],
   "source": [
    "import pandas as pd\n",
    "\n",
    "train = pd.read_csv('train.txt', sep=';', header=None, names=['text', 'label'])\n",
    "test = pd.read_csv('test.txt', sep=';', header=None, names=['text', 'label'])\n",
    "val = pd.read_csv('val.txt', sep=';', header=None, names=['text', 'label'])\n",
    "\n",
    "train.head()"
   ]
  },
  {
   "cell_type": "code",
   "execution_count": 2,
   "metadata": {},
   "outputs": [
    {
     "data": {
      "text/plain": [
       "{'anger': 0, 'fear': 1, 'joy': 2, 'love': 3, 'sadness': 4, 'surprise': 5}"
      ]
     },
     "execution_count": 2,
     "metadata": {},
     "output_type": "execute_result"
    }
   ],
   "source": [
    "# encode label in the dataset\n",
    "from sklearn.preprocessing import LabelEncoder\n",
    "\n",
    "# Create LabelEncoder object\n",
    "le = LabelEncoder()\n",
    "# Fit the encoder to the pandas column\n",
    "le.fit(train['label'])\n",
    "# View encoder mapping\n",
    "dict(zip(le.classes_,le.transform(le.classes_)))"
   ]
  },
  {
   "cell_type": "code",
   "execution_count": 3,
   "metadata": {},
   "outputs": [
    {
     "data": {
      "text/html": [
       "<div>\n",
       "<style scoped>\n",
       "    .dataframe tbody tr th:only-of-type {\n",
       "        vertical-align: middle;\n",
       "    }\n",
       "\n",
       "    .dataframe tbody tr th {\n",
       "        vertical-align: top;\n",
       "    }\n",
       "\n",
       "    .dataframe thead th {\n",
       "        text-align: right;\n",
       "    }\n",
       "</style>\n",
       "<table border=\"1\" class=\"dataframe\">\n",
       "  <thead>\n",
       "    <tr style=\"text-align: right;\">\n",
       "      <th></th>\n",
       "      <th>text</th>\n",
       "      <th>label</th>\n",
       "    </tr>\n",
       "  </thead>\n",
       "  <tbody>\n",
       "    <tr>\n",
       "      <th>0</th>\n",
       "      <td>i didnt feel humiliated</td>\n",
       "      <td>4</td>\n",
       "    </tr>\n",
       "    <tr>\n",
       "      <th>1</th>\n",
       "      <td>i can go from feeling so hopeless to so damned...</td>\n",
       "      <td>4</td>\n",
       "    </tr>\n",
       "    <tr>\n",
       "      <th>2</th>\n",
       "      <td>im grabbing a minute to post i feel greedy wrong</td>\n",
       "      <td>0</td>\n",
       "    </tr>\n",
       "    <tr>\n",
       "      <th>3</th>\n",
       "      <td>i am ever feeling nostalgic about the fireplac...</td>\n",
       "      <td>3</td>\n",
       "    </tr>\n",
       "    <tr>\n",
       "      <th>4</th>\n",
       "      <td>i am feeling grouchy</td>\n",
       "      <td>0</td>\n",
       "    </tr>\n",
       "  </tbody>\n",
       "</table>\n",
       "</div>"
      ],
      "text/plain": [
       "                                                text  label\n",
       "0                            i didnt feel humiliated      4\n",
       "1  i can go from feeling so hopeless to so damned...      4\n",
       "2   im grabbing a minute to post i feel greedy wrong      0\n",
       "3  i am ever feeling nostalgic about the fireplac...      3\n",
       "4                               i am feeling grouchy      0"
      ]
     },
     "execution_count": 3,
     "metadata": {},
     "output_type": "execute_result"
    }
   ],
   "source": [
    "# transform the labels in train, test and val\n",
    "\n",
    "train['label']=le.transform(train['label'])\n",
    "test['label'] = le.transform(test['label'])\n",
    "val['label'] = le.transform(val['label'])\n",
    "\n",
    "train.head()"
   ]
  },
  {
   "cell_type": "code",
   "execution_count": 4,
   "metadata": {},
   "outputs": [],
   "source": [
    "import sentence_transformers\n",
    "\n",
    "# Load the sentence transformer model\n",
    "encoder = sentence_transformers.SentenceTransformer('distilbert-base-nli-stsb-mean-tokens')\n",
    "\n",
    "# Vectorized code\n",
    "train['embeddings'] = train['text'].apply(lambda sentence: encoder.encode(sentence))\n",
    "test['embeddings'] = test['text'].apply(lambda sentence: encoder.encode(sentence))\n",
    "val['embeddings'] = val['text'].apply(lambda sentence: encoder.encode(sentence))"
   ]
  },
  {
   "cell_type": "code",
   "execution_count": 5,
   "metadata": {},
   "outputs": [
    {
     "data": {
      "text/plain": [
       "(16000,)"
      ]
     },
     "execution_count": 5,
     "metadata": {},
     "output_type": "execute_result"
    }
   ],
   "source": [
    "train['embeddings'].shape"
   ]
  },
  {
   "cell_type": "code",
   "execution_count": 6,
   "metadata": {},
   "outputs": [
    {
     "data": {
      "text/plain": [
       "(768,)"
      ]
     },
     "execution_count": 6,
     "metadata": {},
     "output_type": "execute_result"
    }
   ],
   "source": [
    "train['embeddings'][0].shape"
   ]
  },
  {
   "cell_type": "code",
   "execution_count": 7,
   "metadata": {},
   "outputs": [
    {
     "name": "stdout",
     "output_type": "stream",
     "text": [
      "Epoch 1/40\n",
      "16/16 [==============================] - 1s 36ms/step - loss: 1.2654 - accuracy: 0.5462 - val_loss: 1.0219 - val_accuracy: 0.6230\n",
      "Epoch 2/40\n",
      "16/16 [==============================] - 0s 9ms/step - loss: 0.9778 - accuracy: 0.6409 - val_loss: 0.9428 - val_accuracy: 0.6410\n",
      "Epoch 3/40\n",
      "16/16 [==============================] - 0s 9ms/step - loss: 0.8960 - accuracy: 0.6690 - val_loss: 0.8920 - val_accuracy: 0.6625\n",
      "Epoch 4/40\n",
      "16/16 [==============================] - 0s 9ms/step - loss: 0.8391 - accuracy: 0.6886 - val_loss: 0.8741 - val_accuracy: 0.6670\n",
      "Epoch 5/40\n",
      "16/16 [==============================] - 0s 10ms/step - loss: 0.7873 - accuracy: 0.7094 - val_loss: 0.8445 - val_accuracy: 0.6870\n",
      "Epoch 6/40\n",
      "16/16 [==============================] - 0s 11ms/step - loss: 0.7500 - accuracy: 0.7233 - val_loss: 0.8193 - val_accuracy: 0.6865\n",
      "Epoch 7/40\n",
      "16/16 [==============================] - 0s 9ms/step - loss: 0.7089 - accuracy: 0.7368 - val_loss: 0.8182 - val_accuracy: 0.6870\n",
      "Epoch 8/40\n",
      "16/16 [==============================] - 0s 9ms/step - loss: 0.6774 - accuracy: 0.7516 - val_loss: 0.8170 - val_accuracy: 0.6890\n",
      "Epoch 9/40\n",
      "16/16 [==============================] - 0s 9ms/step - loss: 0.6490 - accuracy: 0.7648 - val_loss: 0.7982 - val_accuracy: 0.6955\n",
      "Epoch 10/40\n",
      "16/16 [==============================] - 0s 9ms/step - loss: 0.6197 - accuracy: 0.7734 - val_loss: 0.7945 - val_accuracy: 0.7010\n",
      "Epoch 11/40\n",
      "16/16 [==============================] - 0s 8ms/step - loss: 0.5840 - accuracy: 0.7897 - val_loss: 0.7904 - val_accuracy: 0.7045\n",
      "Epoch 12/40\n",
      "16/16 [==============================] - 0s 9ms/step - loss: 0.5605 - accuracy: 0.8007 - val_loss: 0.7759 - val_accuracy: 0.7055\n",
      "Epoch 13/40\n",
      "16/16 [==============================] - 0s 8ms/step - loss: 0.5343 - accuracy: 0.8098 - val_loss: 0.7796 - val_accuracy: 0.7145\n",
      "Epoch 14/40\n",
      "16/16 [==============================] - 0s 9ms/step - loss: 0.5091 - accuracy: 0.8212 - val_loss: 0.7763 - val_accuracy: 0.7105\n",
      "Epoch 15/40\n",
      "16/16 [==============================] - 0s 9ms/step - loss: 0.4928 - accuracy: 0.8258 - val_loss: 0.7843 - val_accuracy: 0.7115\n",
      "Epoch 16/40\n",
      "16/16 [==============================] - 0s 9ms/step - loss: 0.4617 - accuracy: 0.8389 - val_loss: 0.7822 - val_accuracy: 0.7085\n",
      "Epoch 17/40\n",
      "16/16 [==============================] - 0s 9ms/step - loss: 0.4432 - accuracy: 0.8466 - val_loss: 0.7725 - val_accuracy: 0.7105\n",
      "Epoch 18/40\n",
      "16/16 [==============================] - 0s 9ms/step - loss: 0.4239 - accuracy: 0.8529 - val_loss: 0.7863 - val_accuracy: 0.7095\n",
      "Epoch 19/40\n",
      "16/16 [==============================] - 0s 8ms/step - loss: 0.4029 - accuracy: 0.8600 - val_loss: 0.7823 - val_accuracy: 0.7150\n",
      "Epoch 20/40\n",
      "16/16 [==============================] - 0s 9ms/step - loss: 0.3891 - accuracy: 0.8676 - val_loss: 0.7908 - val_accuracy: 0.7105\n",
      "Epoch 21/40\n",
      "16/16 [==============================] - 0s 9ms/step - loss: 0.3759 - accuracy: 0.8707 - val_loss: 0.7911 - val_accuracy: 0.7205\n",
      "Epoch 22/40\n",
      "16/16 [==============================] - 0s 8ms/step - loss: 0.3556 - accuracy: 0.8800 - val_loss: 0.7994 - val_accuracy: 0.7155\n",
      "Epoch 23/40\n",
      "16/16 [==============================] - 0s 8ms/step - loss: 0.3438 - accuracy: 0.8841 - val_loss: 0.8021 - val_accuracy: 0.7180\n",
      "Epoch 24/40\n",
      "16/16 [==============================] - 0s 8ms/step - loss: 0.3281 - accuracy: 0.8901 - val_loss: 0.7873 - val_accuracy: 0.7155\n",
      "Epoch 25/40\n",
      "16/16 [==============================] - 0s 9ms/step - loss: 0.3110 - accuracy: 0.8971 - val_loss: 0.7986 - val_accuracy: 0.7180\n",
      "Epoch 26/40\n",
      "16/16 [==============================] - 0s 9ms/step - loss: 0.3005 - accuracy: 0.9016 - val_loss: 0.8112 - val_accuracy: 0.7185\n",
      "Epoch 27/40\n",
      "16/16 [==============================] - 0s 9ms/step - loss: 0.2832 - accuracy: 0.9089 - val_loss: 0.8130 - val_accuracy: 0.7145\n",
      "Epoch 28/40\n",
      "16/16 [==============================] - 0s 9ms/step - loss: 0.2762 - accuracy: 0.9086 - val_loss: 0.8068 - val_accuracy: 0.7180\n",
      "Epoch 29/40\n",
      "16/16 [==============================] - 0s 9ms/step - loss: 0.2616 - accuracy: 0.9169 - val_loss: 0.8181 - val_accuracy: 0.7210\n",
      "Epoch 30/40\n",
      "16/16 [==============================] - 0s 8ms/step - loss: 0.2520 - accuracy: 0.9201 - val_loss: 0.8386 - val_accuracy: 0.7235\n",
      "Epoch 31/40\n",
      "16/16 [==============================] - 0s 10ms/step - loss: 0.2392 - accuracy: 0.9254 - val_loss: 0.8378 - val_accuracy: 0.7230\n",
      "Epoch 32/40\n",
      "16/16 [==============================] - 0s 8ms/step - loss: 0.2324 - accuracy: 0.9273 - val_loss: 0.8508 - val_accuracy: 0.7215\n",
      "Epoch 33/40\n",
      "16/16 [==============================] - 0s 8ms/step - loss: 0.2268 - accuracy: 0.9308 - val_loss: 0.8392 - val_accuracy: 0.7210\n",
      "Epoch 34/40\n",
      "16/16 [==============================] - 0s 9ms/step - loss: 0.2134 - accuracy: 0.9336 - val_loss: 0.8536 - val_accuracy: 0.7230\n",
      "Epoch 35/40\n",
      "16/16 [==============================] - 0s 10ms/step - loss: 0.2087 - accuracy: 0.9350 - val_loss: 0.8615 - val_accuracy: 0.7210\n",
      "Epoch 36/40\n",
      "16/16 [==============================] - 0s 9ms/step - loss: 0.2028 - accuracy: 0.9371 - val_loss: 0.8605 - val_accuracy: 0.7165\n",
      "Epoch 37/40\n",
      "16/16 [==============================] - 0s 8ms/step - loss: 0.1909 - accuracy: 0.9423 - val_loss: 0.8661 - val_accuracy: 0.7165\n",
      "Epoch 38/40\n",
      "16/16 [==============================] - 0s 8ms/step - loss: 0.1842 - accuracy: 0.9453 - val_loss: 0.8756 - val_accuracy: 0.7165\n",
      "Epoch 39/40\n",
      "16/16 [==============================] - 0s 8ms/step - loss: 0.1772 - accuracy: 0.9462 - val_loss: 0.8758 - val_accuracy: 0.7210\n",
      "Epoch 40/40\n",
      "16/16 [==============================] - 0s 8ms/step - loss: 0.1711 - accuracy: 0.9491 - val_loss: 0.8978 - val_accuracy: 0.7160\n"
     ]
    }
   ],
   "source": [
    "import tensorflow as tf\n",
    "import numpy as np\n",
    "\n",
    "train_embeddings = np.stack(train['embeddings'].values)\n",
    "val_embeddings = np.stack(val['embeddings'].values)\n",
    "\n",
    "train_labels = tf.keras.utils.to_categorical(train['label'], num_classes=6)\n",
    "val_labels = tf.keras.utils.to_categorical(val['label'], num_classes=6)\n",
    "\n",
    "model = tf.keras.models.Sequential([\n",
    "    tf.keras.layers.Dense(1024, input_shape=(768, ), activation='relu'),\n",
    "    tf.keras.layers.Dropout(0.5),\n",
    "    tf.keras.layers.Dense(6, activation='softmax')\n",
    "])\n",
    "\n",
    "model.compile(optimizer='adam', loss='categorical_crossentropy', metrics=['accuracy'])\n",
    "\n",
    "history = model.fit(train_embeddings, train_labels, epochs=40, batch_size=1024, validation_data=(val_embeddings, val_labels))"
   ]
  },
  {
   "cell_type": "code",
   "execution_count": 8,
   "metadata": {},
   "outputs": [
    {
     "name": "stdout",
     "output_type": "stream",
     "text": [
      "63/63 [==============================] - 0s 3ms/step\n"
     ]
    }
   ],
   "source": [
    "# test model \n",
    "\n",
    "test_embeddings = np.stack(test['embeddings'].values)\n",
    "\n",
    "# predict\n",
    "preds = model.predict(test_embeddings)\n",
    "\n",
    "# get the index of the max probability\n",
    "preds = np.argmax(preds, axis=1)\n",
    "\n",
    "# get the accuracy\n",
    "from sklearn.metrics import accuracy_score\n",
    "acc = accuracy_score(test['label'], preds)"
   ]
  },
  {
   "cell_type": "code",
   "execution_count": 9,
   "metadata": {},
   "outputs": [
    {
     "name": "stdout",
     "output_type": "stream",
     "text": [
      "0.726\n"
     ]
    }
   ],
   "source": [
    "print(acc)"
   ]
  },
  {
   "cell_type": "code",
   "execution_count": 13,
   "metadata": {},
   "outputs": [
    {
     "data": {
      "text/plain": [
       "'joy'"
      ]
     },
     "execution_count": 13,
     "metadata": {},
     "output_type": "execute_result"
    }
   ],
   "source": [
    "import sentence_transformers\n",
    "import tensorflow as tf\n",
    "import numpy as np\n",
    "# Load the sentence transformer model\n",
    "encoder = sentence_transformers.SentenceTransformer('distilbert-base-nli-stsb-mean-tokens')\n",
    "model = tf.saved_model.load(\"model\")\n",
    "def emotion_detect(text):\n",
    "    x = encoder.encode(text)\n",
    "    x = np.array(x).reshape(1, 768)\n",
    "    pred = model(x)\n",
    "    pred = np.argmax(pred)\n",
    "    dict = {'anger': 0, 'fear': 1, 'joy': 2, 'love': 3, 'sadness': 4, 'surprise': 5}\n",
    "    return list(dict.keys())[list(dict.values()).index(pred)]\n",
    "\n",
    "emotion_detect(\"hey there how are you?\")"
   ]
  },
  {
   "cell_type": "code",
   "execution_count": 17,
   "metadata": {},
   "outputs": [
    {
     "data": {
      "text/plain": [
       "'anger'"
      ]
     },
     "execution_count": 17,
     "metadata": {},
     "output_type": "execute_result"
    }
   ],
   "source": [
    "emotion_detect(\"fuck you\")"
   ]
  },
  {
   "cell_type": "code",
   "execution_count": 12,
   "metadata": {},
   "outputs": [
    {
     "name": "stdout",
     "output_type": "stream",
     "text": [
      "INFO:tensorflow:Assets written to: model\\assets\n"
     ]
    }
   ],
   "source": [
    "# save the model to disk\n",
    "tf.saved_model.save(model, \"model\")"
   ]
  }
 ],
 "metadata": {
  "kernelspec": {
   "display_name": "Python 3",
   "language": "python",
   "name": "python3"
  },
  "language_info": {
   "codemirror_mode": {
    "name": "ipython",
    "version": 3
   },
   "file_extension": ".py",
   "mimetype": "text/x-python",
   "name": "python",
   "nbconvert_exporter": "python",
   "pygments_lexer": "ipython3",
   "version": "3.10.11"
  },
  "orig_nbformat": 4
 },
 "nbformat": 4,
 "nbformat_minor": 2
}
